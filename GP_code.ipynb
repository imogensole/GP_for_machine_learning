{
 "cells": [
  {
   "cell_type": "markdown",
   "metadata": {},
   "source": [
    "# Gaussian Processes for Machine Learning\n",
    "\n",
    "[link](https://sandipanweb.wordpress.com/2020/12/08/gaussian-process-regression-with-python/)\n",
    "\n"
   ]
  },
  {
   "cell_type": "markdown",
   "metadata": {},
   "source": [
    "* GP = takes two parameters: the mean (m) and the kernel function (k)\n",
    "\n",
    "* Given training data points (X,y) the goal is to learn a function f\n",
    "\n",
    "* Then can use the function to predict the y value for unseen data points Xtest "
   ]
  },
  {
   "cell_type": "code",
   "execution_count": 1,
   "metadata": {},
   "outputs": [],
   "source": [
    "import numpy as np \n",
    "\n",
    "# Generate the data points \n",
    "\n",
    "def gen_points(n=10, var=1e-6): \n",
    "    np.random.seed(123)\n",
    "    # Generates a sample of x values from the uniform distribution\n",
    "    X = np.random.uniform(-3, 3, (n, 1))\n",
    "    # Evaluates y sample as the sin of X plus random Gaussian noise \n",
    "    y = np.sin(X) + np.random.randn()\n",
    "    return X, y\n",
    "    "
   ]
  },
  {
   "cell_type": "code",
   "execution_count": 5,
   "metadata": {},
   "outputs": [
    {
     "data": {
      "image/png": "[encoded data removed]",
      "text/plain": [
       "<Figure size 640x480 with 1 Axes>"
      ]
     },
     "metadata": {},
     "output_type": "display_data"
    }
   ],
   "source": [
    "# Plotting the sample data points \n",
    "\n",
    "import matplotlib.pylab as plt \n",
    "\n",
    "# Generates the X and y points \n",
    "X, y = gen_points()\n",
    "\n",
    "# Plots a scatter plot of the data\n",
    "plt.plot(X, y, 'x')\n",
    "plt.show()\n",
    "\n",
    "\n"
   ]
  },
  {
   "cell_type": "code",
   "execution_count": 11,
   "metadata": {},
   "outputs": [],
   "source": [
    "# Generates 100 test data points \n",
    "Xtest, ytest = gen_points()\n",
    "\n",
    "# Sorts the data by ascending x values \n",
    "Xtest.sort(axis=0)\n"
   ]
  },
  {
   "cell_type": "markdown",
   "metadata": {},
   "source": [
    "## Squared Exponential Kernel Formula \n",
    "\n",
    "The formula for the squared exponential kernel is: \n",
    "$$\n",
    "k(x_1, x_2) := \\sigma^2 \\exp(-\\frac{||x_1 - x_2||^2}{(2l^2)})\n",
    "$$\n",
    "\n",
    "with the lengthscale: $l > 0$ and the variance $\\sigma^2 > 0$\n"
   ]
  },
  {
   "cell_type": "code",
   "execution_count": 34,
   "metadata": {},
   "outputs": [],
   "source": [
    "# Define the se kernel function\n",
    "def se_kernel(x, y, sigma=1, length=1): \n",
    "        return float(sigma*np.exp(-np.linalg.norm(x - y)**2/(2*length**2)))\n"
   ]
  },
  {
   "cell_type": "code",
   "execution_count": 36,
   "metadata": {},
   "outputs": [],
   "source": [
    "n = len(Xtest)\n",
    "\n",
    "K = se_kernel(Xtest, Xtest)\n",
    "\n",
    "noise_var = 1\n",
    "n_samples = 100\n",
    "L = np.linalg.cholesky(K + noise_var*np.eye(n))\n",
    "f_prior = np.dot(L, np.random.normal(size=(n, n_samples)))\n"
   ]
  },
  {
   "cell_type": "code",
   "execution_count": null,
   "metadata": {},
   "outputs": [],
   "source": []
  }
 ],
 "metadata": {
  "kernelspec": {
   "display_name": "Python 3",
   "language": "python",
   "name": "python3"
  },
  "language_info": {
   "codemirror_mode": {
    "name": "ipython",
    "version": 3
   },
   "file_extension": ".py",
   "mimetype": "text/x-python",
   "name": "python",
   "nbconvert_exporter": "python",
   "pygments_lexer": "ipython3",
   "version": "3.11.4"
  },
  "orig_nbformat": 4
 },
 "nbformat": 4,
 "nbformat_minor": 2
}
